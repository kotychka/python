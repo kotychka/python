{
 "cells": [
  {
   "cell_type": "code",
   "execution_count": 83,
   "metadata": {},
   "outputs": [
    {
     "name": "stdout",
     "output_type": "stream",
     "text": [
      "1981\n",
      "1980\n",
      "1982\n",
      "1983\n",
      "1984\n",
      "1989\n",
      "1990\n",
      "1985\n",
      "1986\n",
      "1988\n",
      "1987\n",
      "1991\n",
      "1992\n",
      "1993\n",
      "1994\n",
      "[1980]\n",
      "[1981]\n",
      "[1982]\n",
      "[1983]\n",
      "[1984]\n",
      "[1985]\n",
      "[1986]\n",
      "[1987]\n",
      "[1988]\n",
      "[1989]\n",
      "[1990]\n",
      "[1991]\n",
      "[1992]\n",
      "[1993]\n",
      "[1994]\n"
     ]
    }
   ],
   "source": [
    "import pandas as pd\n",
    "import matplotlib.pyplot as plt\n",
    "import plotly.express as px\n",
    "import plotly.graph_objects as go\n",
    "\n",
    "df = pd.read_csv('D:/Cloud/Nastya/IT/python/NationalNames.csv')\n",
    "millenial = df.loc[df['Year']>=1980].loc[df['Year']<=1994].sort_values('Count', ascending=False)\n",
    "millenial_man = millenial.loc[millenial['Gender']=='M'].sort_values('Count', ascending=False)\n",
    "millenial_m = millenial.loc[millenial['Gender']=='M'].sort_values(['Year', 'Count'], ascending=[1,0])\n",
    "mill_year = millenial.loc[millenial['Gender']=='M'].groupby(['Year'])['Year'].unique()\n",
    "# .sort_values(['Year', 'Count'], ascending=False)\n",
    "# groupby(['Year'])\n",
    "# millenial_m.sort_values('Count', ascending=False)\n",
    "# df.sort_values('Year')\n",
    "# for year in mill_year:\n",
    "#     mill_name = millenial_m.loc[millenial['Year']==year].sort_values(['Count'], ascending=False)['Name']\n",
    "#     mill_quant = millenial_m.loc[millenial['Year']==year].sort_values(['Count'], ascending=False)[:5]['Count']\n",
    "# mill_name\n",
    "# # mill_year\n",
    "# mill_quant\n",
    "# mill_name1 = millenial_m.loc[millenial['Year']==1980].sort_values(['Count'], ascending=False)[:5][['Name','Count']]\n",
    "# mill_name2 = millenial_m.loc[millenial['Year']==1994].sort_values(['Count'], ascending=False)[:5][['Name','Count']]\n",
    "# # print(mill_name1)\n",
    "# mill_name2\n",
    "# millenial\n",
    "# mill_year\n",
    "# millenial_man\n",
    "# for year in millenial['Year']:\n",
    "#     mill_name = millenial_man.loc[millenial['Year']==year][:5][['Year','Name','Count']]\n",
    "# #     mill_quant = millenial.loc[millenial['Year']==year].sort_values(['Count'], ascending=False)[:5]['Count']\n",
    "# print(mill_name)\n",
    "\n",
    "# mill_name = millenial_man.loc[millenial['Year']==1980][:5][['Year','Name','Count']]\n",
    "# print(mill_name)\n",
    "# mill_year\n",
    "# millenial_m\n",
    "# df\n",
    "\n",
    "for year in millenial['Year'].unique():\n",
    "    print(year)\n",
    "\n",
    "for year in mill_year:\n",
    "    print(year)\n",
    "\n",
    "\n",
    "# millenial.loc[millenial['Gender']=='M'].loc[millenial['Year']==1981].sort_values('Count', ascending=False)"
   ]
  },
  {
   "cell_type": "code",
   "execution_count": null,
   "metadata": {},
   "outputs": [],
   "source": []
  }
 ],
 "metadata": {
  "kernelspec": {
   "display_name": "Python 3",
   "language": "python",
   "name": "python3"
  },
  "language_info": {
   "codemirror_mode": {
    "name": "ipython",
    "version": 3
   },
   "file_extension": ".py",
   "mimetype": "text/x-python",
   "name": "python",
   "nbconvert_exporter": "python",
   "pygments_lexer": "ipython3",
   "version": "3.8.2"
  }
 },
 "nbformat": 4,
 "nbformat_minor": 4
}
